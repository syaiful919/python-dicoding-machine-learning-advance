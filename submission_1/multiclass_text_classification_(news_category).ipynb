{
  "nbformat": 4,
  "nbformat_minor": 0,
  "metadata": {
    "colab": {
      "name": "multiclass text classification (news category).ipynb",
      "provenance": []
    },
    "kernelspec": {
      "name": "python3",
      "display_name": "Python 3"
    }
  },
  "cells": [
    {
      "cell_type": "code",
      "metadata": {
        "id": "9ZVTtGZI5MET",
        "colab_type": "code",
        "colab": {}
      },
      "source": [
        "import pandas as pd"
      ],
      "execution_count": 47,
      "outputs": []
    },
    {
      "cell_type": "code",
      "metadata": {
        "id": "WZ6K-E_P5aCh",
        "colab_type": "code",
        "colab": {}
      },
      "source": [
        "dataset_url = \"https://raw.githubusercontent.com/syaiful919/datasets/master/bbc_news.csv\""
      ],
      "execution_count": 48,
      "outputs": []
    },
    {
      "cell_type": "markdown",
      "metadata": {
        "id": "xUBRhc8oaKMI",
        "colab_type": "text"
      },
      "source": [
        "note: data diperoleh dari https://www.kaggle.com/yufengdev/bbc-fulltext-and-category"
      ]
    },
    {
      "cell_type": "code",
      "metadata": {
        "id": "xKSDS_Ru5kJZ",
        "colab_type": "code",
        "colab": {}
      },
      "source": [
        "df = pd.read_csv(dataset_url)"
      ],
      "execution_count": 49,
      "outputs": []
    },
    {
      "cell_type": "code",
      "metadata": {
        "id": "nWmW4iLM5mgm",
        "colab_type": "code",
        "colab": {
          "base_uri": "https://localhost:8080/",
          "height": 195
        },
        "outputId": "dc24ee81-0d4a-4307-e7a2-ffa6e43fe97a"
      },
      "source": [
        "df.head()"
      ],
      "execution_count": 50,
      "outputs": [
        {
          "output_type": "execute_result",
          "data": {
            "text/html": [
              "<div>\n",
              "<style scoped>\n",
              "    .dataframe tbody tr th:only-of-type {\n",
              "        vertical-align: middle;\n",
              "    }\n",
              "\n",
              "    .dataframe tbody tr th {\n",
              "        vertical-align: top;\n",
              "    }\n",
              "\n",
              "    .dataframe thead th {\n",
              "        text-align: right;\n",
              "    }\n",
              "</style>\n",
              "<table border=\"1\" class=\"dataframe\">\n",
              "  <thead>\n",
              "    <tr style=\"text-align: right;\">\n",
              "      <th></th>\n",
              "      <th>category</th>\n",
              "      <th>text</th>\n",
              "    </tr>\n",
              "  </thead>\n",
              "  <tbody>\n",
              "    <tr>\n",
              "      <th>0</th>\n",
              "      <td>tech</td>\n",
              "      <td>tv future in the hands of viewers with home th...</td>\n",
              "    </tr>\n",
              "    <tr>\n",
              "      <th>1</th>\n",
              "      <td>business</td>\n",
              "      <td>worldcom boss  left books alone  former worldc...</td>\n",
              "    </tr>\n",
              "    <tr>\n",
              "      <th>2</th>\n",
              "      <td>sport</td>\n",
              "      <td>tigers wary of farrell  gamble  leicester say ...</td>\n",
              "    </tr>\n",
              "    <tr>\n",
              "      <th>3</th>\n",
              "      <td>sport</td>\n",
              "      <td>yeading face newcastle in fa cup premiership s...</td>\n",
              "    </tr>\n",
              "    <tr>\n",
              "      <th>4</th>\n",
              "      <td>entertainment</td>\n",
              "      <td>ocean s twelve raids box office ocean s twelve...</td>\n",
              "    </tr>\n",
              "  </tbody>\n",
              "</table>\n",
              "</div>"
            ],
            "text/plain": [
              "        category                                               text\n",
              "0           tech  tv future in the hands of viewers with home th...\n",
              "1       business  worldcom boss  left books alone  former worldc...\n",
              "2          sport  tigers wary of farrell  gamble  leicester say ...\n",
              "3          sport  yeading face newcastle in fa cup premiership s...\n",
              "4  entertainment  ocean s twelve raids box office ocean s twelve..."
            ]
          },
          "metadata": {
            "tags": []
          },
          "execution_count": 50
        }
      ]
    },
    {
      "cell_type": "code",
      "metadata": {
        "id": "T80jwp396LyV",
        "colab_type": "code",
        "colab": {}
      },
      "source": [
        "category = pd.get_dummies(df.category)\n",
        "df_new = pd.concat([df, category], axis=1)\n",
        "df_new = df_new.drop(columns='category')"
      ],
      "execution_count": 51,
      "outputs": []
    },
    {
      "cell_type": "code",
      "metadata": {
        "id": "eOW_GjUl6R6B",
        "colab_type": "code",
        "colab": {
          "base_uri": "https://localhost:8080/",
          "height": 195
        },
        "outputId": "f9eeed49-4d37-412f-c9f6-bf04e0959112"
      },
      "source": [
        "df_new.head()"
      ],
      "execution_count": 52,
      "outputs": [
        {
          "output_type": "execute_result",
          "data": {
            "text/html": [
              "<div>\n",
              "<style scoped>\n",
              "    .dataframe tbody tr th:only-of-type {\n",
              "        vertical-align: middle;\n",
              "    }\n",
              "\n",
              "    .dataframe tbody tr th {\n",
              "        vertical-align: top;\n",
              "    }\n",
              "\n",
              "    .dataframe thead th {\n",
              "        text-align: right;\n",
              "    }\n",
              "</style>\n",
              "<table border=\"1\" class=\"dataframe\">\n",
              "  <thead>\n",
              "    <tr style=\"text-align: right;\">\n",
              "      <th></th>\n",
              "      <th>text</th>\n",
              "      <th>business</th>\n",
              "      <th>entertainment</th>\n",
              "      <th>politics</th>\n",
              "      <th>sport</th>\n",
              "      <th>tech</th>\n",
              "    </tr>\n",
              "  </thead>\n",
              "  <tbody>\n",
              "    <tr>\n",
              "      <th>0</th>\n",
              "      <td>tv future in the hands of viewers with home th...</td>\n",
              "      <td>0</td>\n",
              "      <td>0</td>\n",
              "      <td>0</td>\n",
              "      <td>0</td>\n",
              "      <td>1</td>\n",
              "    </tr>\n",
              "    <tr>\n",
              "      <th>1</th>\n",
              "      <td>worldcom boss  left books alone  former worldc...</td>\n",
              "      <td>1</td>\n",
              "      <td>0</td>\n",
              "      <td>0</td>\n",
              "      <td>0</td>\n",
              "      <td>0</td>\n",
              "    </tr>\n",
              "    <tr>\n",
              "      <th>2</th>\n",
              "      <td>tigers wary of farrell  gamble  leicester say ...</td>\n",
              "      <td>0</td>\n",
              "      <td>0</td>\n",
              "      <td>0</td>\n",
              "      <td>1</td>\n",
              "      <td>0</td>\n",
              "    </tr>\n",
              "    <tr>\n",
              "      <th>3</th>\n",
              "      <td>yeading face newcastle in fa cup premiership s...</td>\n",
              "      <td>0</td>\n",
              "      <td>0</td>\n",
              "      <td>0</td>\n",
              "      <td>1</td>\n",
              "      <td>0</td>\n",
              "    </tr>\n",
              "    <tr>\n",
              "      <th>4</th>\n",
              "      <td>ocean s twelve raids box office ocean s twelve...</td>\n",
              "      <td>0</td>\n",
              "      <td>1</td>\n",
              "      <td>0</td>\n",
              "      <td>0</td>\n",
              "      <td>0</td>\n",
              "    </tr>\n",
              "  </tbody>\n",
              "</table>\n",
              "</div>"
            ],
            "text/plain": [
              "                                                text  business  ...  sport  tech\n",
              "0  tv future in the hands of viewers with home th...         0  ...      0     1\n",
              "1  worldcom boss  left books alone  former worldc...         1  ...      0     0\n",
              "2  tigers wary of farrell  gamble  leicester say ...         0  ...      1     0\n",
              "3  yeading face newcastle in fa cup premiership s...         0  ...      1     0\n",
              "4  ocean s twelve raids box office ocean s twelve...         0  ...      0     0\n",
              "\n",
              "[5 rows x 6 columns]"
            ]
          },
          "metadata": {
            "tags": []
          },
          "execution_count": 52
        }
      ]
    },
    {
      "cell_type": "code",
      "metadata": {
        "id": "aeYgXfCf6TOr",
        "colab_type": "code",
        "colab": {}
      },
      "source": [
        "text = df_new['text'].values\n",
        "label = df_new[['business', 'entertainment', 'politics', 'sport', 'tech']].values"
      ],
      "execution_count": 53,
      "outputs": []
    },
    {
      "cell_type": "code",
      "metadata": {
        "id": "KPNeY5bIAqSS",
        "colab_type": "code",
        "colab": {}
      },
      "source": [
        "from sklearn.model_selection import train_test_split\n",
        "text_train, text_test, label_train, label_test = train_test_split(text, label, test_size=0.2)"
      ],
      "execution_count": 54,
      "outputs": []
    },
    {
      "cell_type": "code",
      "metadata": {
        "id": "LSGTQMv8Atqu",
        "colab_type": "code",
        "colab": {}
      },
      "source": [
        "from tensorflow.keras.preprocessing.text import Tokenizer\n",
        "from tensorflow.keras.preprocessing.sequence import pad_sequences\n",
        " \n",
        "num_words = 5000\n",
        "tokenizer = Tokenizer(num_words=num_words, oov_token='x')\n",
        "tokenizer.fit_on_texts(text_train) \n",
        "tokenizer.fit_on_texts(text_test)\n",
        " \n",
        "sequence_train = tokenizer.texts_to_sequences(text_train)\n",
        "sequence_test = tokenizer.texts_to_sequences(text_test)\n",
        " \n",
        "padded_train = pad_sequences(sequence_train) \n",
        "padded_test = pad_sequences(sequence_test)"
      ],
      "execution_count": 55,
      "outputs": []
    },
    {
      "cell_type": "code",
      "metadata": {
        "id": "72TiFpKUBTzt",
        "colab_type": "code",
        "colab": {}
      },
      "source": [
        "import tensorflow as tf\n",
        "model = tf.keras.Sequential([\n",
        "    tf.keras.layers.Embedding(input_dim=num_words, output_dim=16),\n",
        "    tf.keras.layers.LSTM(64),\n",
        "    tf.keras.layers.Dense(128, activation='relu'),\n",
        "    tf.keras.layers.Dense(64, activation='relu'),\n",
        "    tf.keras.layers.Dense(5, activation='softmax')\n",
        "])\n",
        "model.compile(loss='categorical_crossentropy',optimizer='adam',metrics=['accuracy'])"
      ],
      "execution_count": 64,
      "outputs": []
    },
    {
      "cell_type": "code",
      "metadata": {
        "id": "Gmbp4IGCZrTE",
        "colab_type": "code",
        "colab": {}
      },
      "source": [
        "class stopCallback(tf.keras.callbacks.Callback):\n",
        "  def on_epoch_end(self, epoch, logs={}):\n",
        "    if(logs.get('accuracy')>0.9):\n",
        "      print(\"\\nAkurasi telah mencapai 90%!\")\n",
        "      self.model.stop_training = False\n",
        "    if(logs.get('val_accuracy')>0.9):\n",
        "      print(\"\\nAkurasi data validasi telah mencapai 90%!\")\n",
        "      self.model.stop_training = True\n",
        "callbacks = stopCallback()"
      ],
      "execution_count": 65,
      "outputs": []
    },
    {
      "cell_type": "code",
      "metadata": {
        "id": "L-xDIMgPBaYd",
        "colab_type": "code",
        "colab": {
          "base_uri": "https://localhost:8080/",
          "height": 1000
        },
        "outputId": "b886d067-9051-4d87-cb5f-209063750cc7"
      },
      "source": [
        "num_epochs = 20\n",
        "history = model.fit(padded_train, label_train, epochs=num_epochs, callbacks=[callbacks],\n",
        "                    validation_data=(padded_test, label_test), verbose=2)"
      ],
      "execution_count": 66,
      "outputs": [
        {
          "output_type": "stream",
          "text": [
            "Epoch 1/20\n",
            "56/56 - 188s - loss: 1.5984 - accuracy: 0.2483 - val_loss: 1.5279 - val_accuracy: 0.2921\n",
            "Epoch 2/20\n",
            "56/56 - 193s - loss: 1.4821 - accuracy: 0.4169 - val_loss: 1.4372 - val_accuracy: 0.4090\n",
            "Epoch 3/20\n",
            "56/56 - 192s - loss: 1.1254 - accuracy: 0.5831 - val_loss: 1.0702 - val_accuracy: 0.5685\n",
            "Epoch 4/20\n",
            "56/56 - 192s - loss: 0.5104 - accuracy: 0.8146 - val_loss: 0.7277 - val_accuracy: 0.7551\n",
            "Epoch 5/20\n",
            "\n",
            "Akurasi telah mencapai 90%!\n",
            "56/56 - 196s - loss: 0.2155 - accuracy: 0.9365 - val_loss: 0.7364 - val_accuracy: 0.7461\n",
            "Epoch 6/20\n",
            "\n",
            "Akurasi telah mencapai 90%!\n",
            "56/56 - 192s - loss: 0.1184 - accuracy: 0.9584 - val_loss: 0.9050 - val_accuracy: 0.7011\n",
            "Epoch 7/20\n",
            "\n",
            "Akurasi telah mencapai 90%!\n",
            "56/56 - 194s - loss: 0.0490 - accuracy: 0.9876 - val_loss: 0.7308 - val_accuracy: 0.8180\n",
            "Epoch 8/20\n",
            "\n",
            "Akurasi telah mencapai 90%!\n",
            "56/56 - 196s - loss: 0.0120 - accuracy: 0.9978 - val_loss: 0.6766 - val_accuracy: 0.8382\n",
            "Epoch 9/20\n",
            "\n",
            "Akurasi telah mencapai 90%!\n",
            "56/56 - 191s - loss: 0.0034 - accuracy: 1.0000 - val_loss: 0.7422 - val_accuracy: 0.8337\n",
            "Epoch 10/20\n",
            "\n",
            "Akurasi telah mencapai 90%!\n",
            "56/56 - 193s - loss: 0.0017 - accuracy: 1.0000 - val_loss: 0.7240 - val_accuracy: 0.8584\n",
            "Epoch 11/20\n",
            "\n",
            "Akurasi telah mencapai 90%!\n",
            "56/56 - 201s - loss: 9.5796e-04 - accuracy: 1.0000 - val_loss: 0.7489 - val_accuracy: 0.8607\n",
            "Epoch 12/20\n",
            "\n",
            "Akurasi telah mencapai 90%!\n",
            "56/56 - 197s - loss: 7.2039e-04 - accuracy: 1.0000 - val_loss: 0.7463 - val_accuracy: 0.8652\n",
            "Epoch 13/20\n",
            "\n",
            "Akurasi telah mencapai 90%!\n",
            "56/56 - 197s - loss: 5.7535e-04 - accuracy: 1.0000 - val_loss: 0.7620 - val_accuracy: 0.8674\n",
            "Epoch 14/20\n",
            "\n",
            "Akurasi telah mencapai 90%!\n",
            "56/56 - 201s - loss: 4.6585e-04 - accuracy: 1.0000 - val_loss: 0.7772 - val_accuracy: 0.8629\n",
            "Epoch 15/20\n",
            "\n",
            "Akurasi telah mencapai 90%!\n",
            "56/56 - 196s - loss: 3.9606e-04 - accuracy: 1.0000 - val_loss: 0.7857 - val_accuracy: 0.8697\n",
            "Epoch 16/20\n",
            "\n",
            "Akurasi telah mencapai 90%!\n",
            "56/56 - 196s - loss: 3.3334e-04 - accuracy: 1.0000 - val_loss: 0.7918 - val_accuracy: 0.8697\n",
            "Epoch 17/20\n",
            "\n",
            "Akurasi telah mencapai 90%!\n",
            "56/56 - 196s - loss: 2.8738e-04 - accuracy: 1.0000 - val_loss: 0.7991 - val_accuracy: 0.8742\n",
            "Epoch 18/20\n",
            "\n",
            "Akurasi telah mencapai 90%!\n",
            "56/56 - 196s - loss: 2.5109e-04 - accuracy: 1.0000 - val_loss: 0.8083 - val_accuracy: 0.8742\n",
            "Epoch 19/20\n",
            "\n",
            "Akurasi telah mencapai 90%!\n",
            "56/56 - 196s - loss: 2.2067e-04 - accuracy: 1.0000 - val_loss: 0.8166 - val_accuracy: 0.8742\n",
            "Epoch 20/20\n",
            "\n",
            "Akurasi telah mencapai 90%!\n",
            "56/56 - 196s - loss: 1.9523e-04 - accuracy: 1.0000 - val_loss: 0.8225 - val_accuracy: 0.8742\n"
          ],
          "name": "stdout"
        }
      ]
    },
    {
      "cell_type": "code",
      "metadata": {
        "id": "tedKhGeBBc9X",
        "colab_type": "code",
        "colab": {}
      },
      "source": [
        "import matplotlib.pyplot as plt"
      ],
      "execution_count": 67,
      "outputs": []
    },
    {
      "cell_type": "code",
      "metadata": {
        "id": "CIbNaL-UE4sG",
        "colab_type": "code",
        "colab": {
          "base_uri": "https://localhost:8080/",
          "height": 295
        },
        "outputId": "65895f46-cb9d-4700-d32d-b23bf14d160e"
      },
      "source": [
        "plt.plot(history.history['loss'])\n",
        "plt.title('Model loss')\n",
        "plt.ylabel('Loss')\n",
        "plt.xlabel('Epoch')\n",
        "plt.legend(['Train'], loc='upper right')\n",
        "plt.show()"
      ],
      "execution_count": 68,
      "outputs": [
        {
          "output_type": "display_data",
          "data": {
            "image/png": "[encoded data removed]",
            "text/plain": [
              "<Figure size 432x288 with 1 Axes>"
            ]
          },
          "metadata": {
            "tags": [],
            "needs_background": "light"
          }
        }
      ]
    },
    {
      "cell_type": "code",
      "metadata": {
        "id": "CrH_WjSYE9cU",
        "colab_type": "code",
        "colab": {
          "base_uri": "https://localhost:8080/",
          "height": 295
        },
        "outputId": "56c01ba8-beed-4295-c926-dacc97f75a92"
      },
      "source": [
        "plt.plot(history.history['accuracy'])\n",
        "plt.title('Model accuracy')\n",
        "plt.ylabel('Accuracy')\n",
        "plt.xlabel('Epoch')\n",
        "plt.legend(['Train'], loc='lower right')\n",
        "plt.show()"
      ],
      "execution_count": 69,
      "outputs": [
        {
          "output_type": "display_data",
          "data": {
            "image/png": "[encoded data removed]",
            "text/plain": [
              "<Figure size 432x288 with 1 Axes>"
            ]
          },
          "metadata": {
            "tags": [],
            "needs_background": "light"
          }
        }
      ]
    },
    {
      "cell_type": "code",
      "metadata": {
        "id": "qRoeh54zGXR7",
        "colab_type": "code",
        "colab": {}
      },
      "source": [
        ""
      ],
      "execution_count": null,
      "outputs": []
    }
  ]
}