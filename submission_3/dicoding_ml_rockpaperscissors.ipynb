{
  "nbformat": 4,
  "nbformat_minor": 0,
  "metadata": {
    "colab": {
      "name": "dicoding-ml-basic-rockpaperscissors.ipynb",
      "provenance": [],
      "collapsed_sections": []
    },
    "kernelspec": {
      "name": "python3",
      "display_name": "Python 3"
    }
  },
  "cells": [
    {
      "cell_type": "code",
      "metadata": {
        "id": "ipULb_Kj_4JS",
        "colab_type": "code",
        "colab": {}
      },
      "source": [
        "import tensorflow as tf\n",
        "from tensorflow.keras.optimizers import RMSprop\n",
        "from tensorflow.keras.preprocessing.image import ImageDataGenerator"
      ],
      "execution_count": 1,
      "outputs": []
    },
    {
      "cell_type": "code",
      "metadata": {
        "id": "hxoodkiEFaWX",
        "colab_type": "code",
        "colab": {
          "base_uri": "https://localhost:8080/",
          "height": 121
        },
        "outputId": "9814c851-70a9-4122-be79-5bb1054f33a1"
      },
      "source": [
        "# dataset yg digunakan adalah dataset rockpaperscrissors yang telah dipisahkan antara data training & validation\n",
        "# dengan perbandingan 8 : 2, kemudian diupload ke g-drive\n",
        "# link: https://drive.google.com/file/d/1yi-81Ni0IJA1OMV_VC9FqetKT0zc05c-/view?usp=sharing\n",
        "from google.colab import drive\n",
        "drive.mount('/content/gdrive')"
      ],
      "execution_count": 2,
      "outputs": [
        {
          "output_type": "stream",
          "text": [
            "Go to this URL in a browser: https://accounts.google.com/o/oauth2/auth?client_id=947318989803-6bn6qk8qdgf4n4g3pfee6491hc0brc4i.apps.googleusercontent.com&redirect_uri=urn%3aietf%3awg%3aoauth%3a2.0%3aoob&scope=email%20https%3a%2f%2fwww.googleapis.com%2fauth%2fdocs.test%20https%3a%2f%2fwww.googleapis.com%2fauth%2fdrive%20https%3a%2f%2fwww.googleapis.com%2fauth%2fdrive.photos.readonly%20https%3a%2f%2fwww.googleapis.com%2fauth%2fpeopleapi.readonly&response_type=code\n",
            "\n",
            "Enter your authorization code:\n",
            "··········\n",
            "Mounted at /content/gdrive\n"
          ],
          "name": "stdout"
        }
      ]
    },
    {
      "cell_type": "code",
      "metadata": {
        "id": "LEXZV7KpGU88",
        "colab_type": "code",
        "colab": {
          "base_uri": "https://localhost:8080/",
          "height": 34
        },
        "outputId": "5b66c232-3b4a-4333-b276-e8f2135237db"
      },
      "source": [
        "!ls '/content/gdrive/My Drive/sample_data/'"
      ],
      "execution_count": 10,
      "outputs": [
        {
          "output_type": "stream",
          "text": [
            "clean_vs_messy.zip  rockpaperscissors82.zip  rockpaperscissors.zip\n"
          ],
          "name": "stdout"
        }
      ]
    },
    {
      "cell_type": "code",
      "metadata": {
        "id": "zTwHmc_CKhWs",
        "colab_type": "code",
        "colab": {}
      },
      "source": [
        "import zipfile\n",
        "local_zip = '/content/gdrive/My Drive/sample_data/rockpaperscissors82.zip'\n",
        "zip_ref = zipfile.ZipFile(local_zip, 'r')\n",
        "zip_ref.extractall('/content/gdrive/My Drive/sample_data/rockpaperscissors/')\n",
        "zip_ref.close()"
      ],
      "execution_count": 11,
      "outputs": []
    },
    {
      "cell_type": "code",
      "metadata": {
        "id": "1Mlms7_ZTdsH",
        "colab_type": "code",
        "colab": {}
      },
      "source": [
        "import os\n",
        "base_dir = '/content/gdrive/My Drive/sample_data/rockpaperscissors/rockpaperscissors82/images'\n",
        "train_dir = os.path.join(base_dir, 'train')\n",
        "validation_dir = os.path.join(base_dir, 'val')"
      ],
      "execution_count": 14,
      "outputs": []
    },
    {
      "cell_type": "code",
      "metadata": {
        "id": "1g1MYcqpTt6W",
        "colab_type": "code",
        "colab": {
          "base_uri": "https://localhost:8080/",
          "height": 34
        },
        "outputId": "4110e1bb-ff59-4d90-8b48-7f8ec33a7fd2"
      },
      "source": [
        "os.listdir('/content/gdrive/My Drive/sample_data/rockpaperscissors/rockpaperscissors82/images/train')"
      ],
      "execution_count": 15,
      "outputs": [
        {
          "output_type": "execute_result",
          "data": {
            "text/plain": [
              "['paper', 'rock', 'scissors']"
            ]
          },
          "metadata": {
            "tags": []
          },
          "execution_count": 15
        }
      ]
    },
    {
      "cell_type": "code",
      "metadata": {
        "id": "HNB4zIeKII9r",
        "colab_type": "code",
        "colab": {
          "base_uri": "https://localhost:8080/",
          "height": 34
        },
        "outputId": "e0c5b54d-351a-4d3d-967f-2547ac54bc3a"
      },
      "source": [
        "os.listdir('/content/gdrive/My Drive/sample_data/rockpaperscissors/rockpaperscissors82/images/val')"
      ],
      "execution_count": 16,
      "outputs": [
        {
          "output_type": "execute_result",
          "data": {
            "text/plain": [
              "['paper', 'rock', 'scissors']"
            ]
          },
          "metadata": {
            "tags": []
          },
          "execution_count": 16
        }
      ]
    },
    {
      "cell_type": "code",
      "metadata": {
        "id": "jZLMJ-pkIO3b",
        "colab_type": "code",
        "colab": {}
      },
      "source": [
        "train_paper_dir = os.path.join(train_dir, 'paper')\n",
        "train_rock_dir = os.path.join(train_dir, 'rock')\n",
        "train_scissors_dir = os.path.join(train_dir, 'scissors')\n",
        "\n",
        "validation_paper_dir = os.path.join(validation_dir, 'paper')\n",
        "validation_rock_dir = os.path.join(validation_dir, 'rock')\n",
        "validation_scissors_dir = os.path.join(validation_dir, 'scissors')"
      ],
      "execution_count": 17,
      "outputs": []
    },
    {
      "cell_type": "code",
      "metadata": {
        "id": "6SLFbpLgJao_",
        "colab_type": "code",
        "colab": {}
      },
      "source": [
        "train_datagen = ImageDataGenerator(\n",
        "                    rescale=1./255,\n",
        "                    rotation_range=20,\n",
        "                    horizontal_flip=True,\n",
        "                    vertical_flip=True,\n",
        "                    width_shift_range=20,\n",
        "                    height_shift_range=20,\n",
        "                    shear_range = 0.2,\n",
        "                    fill_mode = 'nearest')\n",
        "\n",
        "test_datagen = ImageDataGenerator(\n",
        "                    rescale=1./255,\n",
        "                    rotation_range=20,\n",
        "                    horizontal_flip=True,\n",
        "                    vertical_flip=True,\n",
        "                    width_shift_range=20,\n",
        "                    height_shift_range=20,\n",
        "                    shear_range = 0.2,\n",
        "                    fill_mode = 'nearest')"
      ],
      "execution_count": 18,
      "outputs": []
    },
    {
      "cell_type": "code",
      "metadata": {
        "id": "Yq1B1X-ONs4y",
        "colab_type": "code",
        "colab": {
          "base_uri": "https://localhost:8080/",
          "height": 50
        },
        "outputId": "fee7ade0-89d8-4b3a-a37f-a51aa927f617"
      },
      "source": [
        "train_generator = train_datagen.flow_from_directory(\n",
        "        train_dir, \n",
        "        target_size=(100, 150), \n",
        "        batch_size=32,\n",
        "        color_mode='grayscale',\n",
        "        class_mode='categorical')\n",
        "\n",
        "validation_generator = test_datagen.flow_from_directory(\n",
        "        validation_dir, \n",
        "        target_size=(100, 150),\n",
        "        batch_size=32,\n",
        "        color_mode='grayscale',\n",
        "        class_mode='categorical')"
      ],
      "execution_count": 19,
      "outputs": [
        {
          "output_type": "stream",
          "text": [
            "Found 1758 images belonging to 3 classes.\n",
            "Found 430 images belonging to 3 classes.\n"
          ],
          "name": "stdout"
        }
      ]
    },
    {
      "cell_type": "code",
      "metadata": {
        "id": "A_uSPH3HPQHC",
        "colab_type": "code",
        "colab": {}
      },
      "source": [
        "model = tf.keras.models.Sequential([\n",
        "    tf.keras.layers.Conv2D(32, (3,3), activation='relu', input_shape=(100, 150, 1)),\n",
        "    tf.keras.layers.MaxPooling2D(2, 2),\n",
        "    tf.keras.layers.Conv2D(64, (3,3), activation='relu'),\n",
        "    tf.keras.layers.MaxPooling2D(2,2),\n",
        "    tf.keras.layers.Conv2D(128, (3,3), activation='relu'),\n",
        "    tf.keras.layers.MaxPooling2D(2,2),\n",
        "    tf.keras.layers.Conv2D(128, (3,3), activation='relu'),\n",
        "    tf.keras.layers.MaxPooling2D(2,2),\n",
        "    tf.keras.layers.Flatten(),\n",
        "    tf.keras.layers.Dropout(0.5),\n",
        "    tf.keras.layers.Dense(512, activation='relu'),\n",
        "    tf.keras.layers.Dense(3, activation='softmax')\n",
        "])"
      ],
      "execution_count": 43,
      "outputs": []
    },
    {
      "cell_type": "code",
      "metadata": {
        "id": "vM6ARyu2UOY9",
        "colab_type": "code",
        "colab": {}
      },
      "source": [
        "model.compile(loss='categorical_crossentropy',\n",
        "              optimizer=tf.optimizers.RMSprop(),\n",
        "              metrics=['accuracy'])"
      ],
      "execution_count": 44,
      "outputs": []
    },
    {
      "cell_type": "code",
      "metadata": {
        "id": "jUMM1l0ZnRmS",
        "colab_type": "code",
        "colab": {}
      },
      "source": [
        "class stopCallback(tf.keras.callbacks.Callback):\n",
        "  def on_epoch_end(self, epoch, logs={}):\n",
        "    if(logs.get('accuracy')>0.92 and logs.get('val_accuracy')>0.92):\n",
        "      print(\"\\nAkurasi telah mencapai 92%!\")\n",
        "      self.model.stop_training = True\n",
        "callbacks = stopCallback()"
      ],
      "execution_count": 45,
      "outputs": []
    },
    {
      "cell_type": "code",
      "metadata": {
        "id": "t_Q1EqFDWyjq",
        "colab_type": "code",
        "colab": {
          "base_uri": "https://localhost:8080/",
          "height": 487
        },
        "outputId": "e8185c9e-ff7d-4a7a-beb8-a7ec47b3c6d6"
      },
      "source": [
        "history = model.fit(\n",
        "      train_generator,\n",
        "      steps_per_epoch=25,  \n",
        "      epochs=30,\n",
        "      validation_data=validation_generator,\n",
        "      validation_steps=5, \n",
        "      callbacks=[callbacks],\n",
        "      verbose=2)"
      ],
      "execution_count": 46,
      "outputs": [
        {
          "output_type": "stream",
          "text": [
            "Epoch 1/30\n",
            "25/25 - 26s - loss: 1.1711 - accuracy: 0.3650 - val_loss: 1.0961 - val_accuracy: 0.3625\n",
            "Epoch 2/30\n",
            "25/25 - 25s - loss: 1.0997 - accuracy: 0.3885 - val_loss: 1.0907 - val_accuracy: 0.4250\n",
            "Epoch 3/30\n",
            "25/25 - 25s - loss: 1.0885 - accuracy: 0.4437 - val_loss: 0.9950 - val_accuracy: 0.5625\n",
            "Epoch 4/30\n",
            "25/25 - 25s - loss: 0.9730 - accuracy: 0.5288 - val_loss: 0.8072 - val_accuracy: 0.7063\n",
            "Epoch 5/30\n",
            "25/25 - 29s - loss: 0.8472 - accuracy: 0.6153 - val_loss: 0.6587 - val_accuracy: 0.7125\n",
            "Epoch 6/30\n",
            "25/25 - 25s - loss: 0.7465 - accuracy: 0.6825 - val_loss: 0.6968 - val_accuracy: 0.7125\n",
            "Epoch 7/30\n",
            "25/25 - 25s - loss: 0.6313 - accuracy: 0.7400 - val_loss: 0.4740 - val_accuracy: 0.8562\n",
            "Epoch 8/30\n",
            "25/25 - 25s - loss: 0.4846 - accuracy: 0.8188 - val_loss: 0.3607 - val_accuracy: 0.8875\n",
            "Epoch 9/30\n",
            "25/25 - 25s - loss: 0.4612 - accuracy: 0.8213 - val_loss: 0.2406 - val_accuracy: 0.9250\n",
            "Epoch 10/30\n",
            "25/25 - 25s - loss: 0.3162 - accuracy: 0.8963 - val_loss: 0.5239 - val_accuracy: 0.7563\n",
            "Epoch 11/30\n",
            "25/25 - 26s - loss: 0.3788 - accuracy: 0.8759 - val_loss: 0.2301 - val_accuracy: 0.9187\n",
            "Epoch 12/30\n",
            "25/25 - 26s - loss: 0.2716 - accuracy: 0.9211 - val_loss: 0.2432 - val_accuracy: 0.9125\n",
            "Epoch 13/30\n",
            "\n",
            "Akurasi telah mencapai 92%!\n",
            "25/25 - 26s - loss: 0.2173 - accuracy: 0.9236 - val_loss: 0.1207 - val_accuracy: 0.9688\n"
          ],
          "name": "stdout"
        }
      ]
    },
    {
      "cell_type": "code",
      "metadata": {
        "id": "rjh-4a7lUjYz",
        "colab_type": "code",
        "colab": {}
      },
      "source": [
        "import matplotlib.pyplot as plt"
      ],
      "execution_count": 47,
      "outputs": []
    },
    {
      "cell_type": "code",
      "metadata": {
        "id": "x8HWFllJpcBX",
        "colab_type": "code",
        "colab": {
          "base_uri": "https://localhost:8080/",
          "height": 295
        },
        "outputId": "55a6084f-01a4-45cb-a5fd-d8a90c9a6aec"
      },
      "source": [
        "fig, ax = plt.subplots()\n",
        "plt.plot(history.history['loss'])\n",
        "plt.plot(history.history['val_loss'])\n",
        "\n",
        "plt.title('Model loss')\n",
        "plt.ylabel('Loss')\n",
        "plt.xlabel('Epoch')\n",
        "plt.legend(['Train', 'Val'], loc='upper right')\n",
        "plt.show()"
      ],
      "execution_count": 48,
      "outputs": [
        {
          "output_type": "display_data",
          "data": {
            "image/png": "[encoded data removed]",
            "text/plain": [
              "<Figure size 432x288 with 1 Axes>"
            ]
          },
          "metadata": {
            "tags": [],
            "needs_background": "light"
          }
        }
      ]
    },
    {
      "cell_type": "code",
      "metadata": {
        "id": "aUWES7sTpmuw",
        "colab_type": "code",
        "colab": {
          "base_uri": "https://localhost:8080/",
          "height": 295
        },
        "outputId": "6acaf9ae-030f-49c3-c7cf-dce3c9d4abbe"
      },
      "source": [
        "fig, ax = plt.subplots()\n",
        "plt.plot(history.history['accuracy'])\n",
        "plt.plot(history.history['val_accuracy'])\n",
        "\n",
        "plt.title('Model Accuracy')\n",
        "plt.ylabel('Accuracy')\n",
        "plt.xlabel('Epoch')\n",
        "plt.legend(['Train', 'Val'], loc='upper right')\n",
        "plt.show()"
      ],
      "execution_count": 49,
      "outputs": [
        {
          "output_type": "display_data",
          "data": {
            "image/png": "[encoded data removed]",
            "text/plain": [
              "<Figure size 432x288 with 1 Axes>"
            ]
          },
          "metadata": {
            "tags": [],
            "needs_background": "light"
          }
        }
      ]
    },
    {
      "cell_type": "code",
      "metadata": {
        "id": "ZzqwbDVoqGkm",
        "colab_type": "code",
        "colab": {
          "base_uri": "https://localhost:8080/",
          "height": 154
        },
        "outputId": "93d4ba0c-44dc-4aab-8a66-5c496a9bcf92"
      },
      "source": [
        "converter = tf.lite.TFLiteConverter.from_keras_model(model)\n",
        "tflite_model = converter.convert()"
      ],
      "execution_count": 50,
      "outputs": [
        {
          "output_type": "stream",
          "text": [
            "WARNING:tensorflow:From /usr/local/lib/python3.6/dist-packages/tensorflow/python/training/tracking/tracking.py:111: Model.state_updates (from tensorflow.python.keras.engine.training) is deprecated and will be removed in a future version.\n",
            "Instructions for updating:\n",
            "This property should not be used in TensorFlow 2.0, as updates are applied automatically.\n",
            "WARNING:tensorflow:From /usr/local/lib/python3.6/dist-packages/tensorflow/python/training/tracking/tracking.py:111: Layer.updates (from tensorflow.python.keras.engine.base_layer) is deprecated and will be removed in a future version.\n",
            "Instructions for updating:\n",
            "This property should not be used in TensorFlow 2.0, as updates are applied automatically.\n",
            "INFO:tensorflow:Assets written to: /tmp/tmp8v8j6d01/assets\n"
          ],
          "name": "stdout"
        }
      ]
    },
    {
      "cell_type": "code",
      "metadata": {
        "id": "-T9eJiVgqLp-",
        "colab_type": "code",
        "colab": {}
      },
      "source": [
        "with tf.io.gfile.GFile('model.tflite', 'wb') as f:\n",
        "  f.write(tflite_model)"
      ],
      "execution_count": 52,
      "outputs": []
    },
    {
      "cell_type": "code",
      "metadata": {
        "id": "5NwljA7MtQcw",
        "colab_type": "code",
        "colab": {}
      },
      "source": [
        ""
      ],
      "execution_count": null,
      "outputs": []
    }
  ]
}