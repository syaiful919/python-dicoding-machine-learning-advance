{
  "nbformat": 4,
  "nbformat_minor": 0,
  "metadata": {
    "colab": {
      "name": "timeseries (submission).ipynb",
      "provenance": []
    },
    "kernelspec": {
      "name": "python3",
      "display_name": "Python 3"
    }
  },
  "cells": [
    {
      "cell_type": "code",
      "metadata": {
        "id": "i8r7UCftQijx",
        "colab_type": "code",
        "colab": {}
      },
      "source": [
        "import pandas as pd\n",
        "import numpy as np\n",
        "from keras.layers import Dense, LSTM\n",
        "import matplotlib.pyplot as plt\n",
        "import tensorflow as tf"
      ],
      "execution_count": null,
      "outputs": []
    },
    {
      "cell_type": "code",
      "metadata": {
        "id": "9D_TWJu8QkQt",
        "colab_type": "code",
        "colab": {}
      },
      "source": [
        "dataset_url = \"https://raw.githubusercontent.com/syaiful919/datasets/master/szeged_weather/weatherHistory.csv\""
      ],
      "execution_count": 106,
      "outputs": []
    },
    {
      "cell_type": "markdown",
      "metadata": {
        "id": "Sao-vVBOqDpv",
        "colab_type": "text"
      },
      "source": [
        "note: data diperoleh dari https://www.kaggle.com/budincsevity/szeged-weather?select=weatherHistory.csv"
      ]
    },
    {
      "cell_type": "code",
      "metadata": {
        "id": "hITACe1OQsJE",
        "colab_type": "code",
        "colab": {}
      },
      "source": [
        "df = pd.read_csv(dataset_url)"
      ],
      "execution_count": 107,
      "outputs": []
    },
    {
      "cell_type": "code",
      "metadata": {
        "id": "yINozo3RQvIx",
        "colab_type": "code",
        "colab": {
          "base_uri": "https://localhost:8080/",
          "height": 296
        },
        "outputId": "5459b543-4393-4c20-ecd5-507cd3d729df"
      },
      "source": [
        "df.head()"
      ],
      "execution_count": 108,
      "outputs": [
        {
          "output_type": "execute_result",
          "data": {
            "text/html": [
              "<div>\n",
              "<style scoped>\n",
              "    .dataframe tbody tr th:only-of-type {\n",
              "        vertical-align: middle;\n",
              "    }\n",
              "\n",
              "    .dataframe tbody tr th {\n",
              "        vertical-align: top;\n",
              "    }\n",
              "\n",
              "    .dataframe thead th {\n",
              "        text-align: right;\n",
              "    }\n",
              "</style>\n",
              "<table border=\"1\" class=\"dataframe\">\n",
              "  <thead>\n",
              "    <tr style=\"text-align: right;\">\n",
              "      <th></th>\n",
              "      <th>Formatted Date</th>\n",
              "      <th>Summary</th>\n",
              "      <th>Precip Type</th>\n",
              "      <th>Temperature (C)</th>\n",
              "      <th>Apparent Temperature (C)</th>\n",
              "      <th>Humidity</th>\n",
              "      <th>Wind Speed (km/h)</th>\n",
              "      <th>Wind Bearing (degrees)</th>\n",
              "      <th>Visibility (km)</th>\n",
              "      <th>Loud Cover</th>\n",
              "      <th>Pressure (millibars)</th>\n",
              "      <th>Daily Summary</th>\n",
              "    </tr>\n",
              "  </thead>\n",
              "  <tbody>\n",
              "    <tr>\n",
              "      <th>0</th>\n",
              "      <td>2006-04-01 00:00:00.000 +0200</td>\n",
              "      <td>Partly Cloudy</td>\n",
              "      <td>rain</td>\n",
              "      <td>9.472222</td>\n",
              "      <td>7.388889</td>\n",
              "      <td>0.89</td>\n",
              "      <td>14.1197</td>\n",
              "      <td>251.0</td>\n",
              "      <td>15.8263</td>\n",
              "      <td>0.0</td>\n",
              "      <td>1015.13</td>\n",
              "      <td>Partly cloudy throughout the day.</td>\n",
              "    </tr>\n",
              "    <tr>\n",
              "      <th>1</th>\n",
              "      <td>2006-04-01 01:00:00.000 +0200</td>\n",
              "      <td>Partly Cloudy</td>\n",
              "      <td>rain</td>\n",
              "      <td>9.355556</td>\n",
              "      <td>7.227778</td>\n",
              "      <td>0.86</td>\n",
              "      <td>14.2646</td>\n",
              "      <td>259.0</td>\n",
              "      <td>15.8263</td>\n",
              "      <td>0.0</td>\n",
              "      <td>1015.63</td>\n",
              "      <td>Partly cloudy throughout the day.</td>\n",
              "    </tr>\n",
              "    <tr>\n",
              "      <th>2</th>\n",
              "      <td>2006-04-01 02:00:00.000 +0200</td>\n",
              "      <td>Mostly Cloudy</td>\n",
              "      <td>rain</td>\n",
              "      <td>9.377778</td>\n",
              "      <td>9.377778</td>\n",
              "      <td>0.89</td>\n",
              "      <td>3.9284</td>\n",
              "      <td>204.0</td>\n",
              "      <td>14.9569</td>\n",
              "      <td>0.0</td>\n",
              "      <td>1015.94</td>\n",
              "      <td>Partly cloudy throughout the day.</td>\n",
              "    </tr>\n",
              "    <tr>\n",
              "      <th>3</th>\n",
              "      <td>2006-04-01 03:00:00.000 +0200</td>\n",
              "      <td>Partly Cloudy</td>\n",
              "      <td>rain</td>\n",
              "      <td>8.288889</td>\n",
              "      <td>5.944444</td>\n",
              "      <td>0.83</td>\n",
              "      <td>14.1036</td>\n",
              "      <td>269.0</td>\n",
              "      <td>15.8263</td>\n",
              "      <td>0.0</td>\n",
              "      <td>1016.41</td>\n",
              "      <td>Partly cloudy throughout the day.</td>\n",
              "    </tr>\n",
              "    <tr>\n",
              "      <th>4</th>\n",
              "      <td>2006-04-01 04:00:00.000 +0200</td>\n",
              "      <td>Mostly Cloudy</td>\n",
              "      <td>rain</td>\n",
              "      <td>8.755556</td>\n",
              "      <td>6.977778</td>\n",
              "      <td>0.83</td>\n",
              "      <td>11.0446</td>\n",
              "      <td>259.0</td>\n",
              "      <td>15.8263</td>\n",
              "      <td>0.0</td>\n",
              "      <td>1016.51</td>\n",
              "      <td>Partly cloudy throughout the day.</td>\n",
              "    </tr>\n",
              "  </tbody>\n",
              "</table>\n",
              "</div>"
            ],
            "text/plain": [
              "                  Formatted Date  ...                      Daily Summary\n",
              "0  2006-04-01 00:00:00.000 +0200  ...  Partly cloudy throughout the day.\n",
              "1  2006-04-01 01:00:00.000 +0200  ...  Partly cloudy throughout the day.\n",
              "2  2006-04-01 02:00:00.000 +0200  ...  Partly cloudy throughout the day.\n",
              "3  2006-04-01 03:00:00.000 +0200  ...  Partly cloudy throughout the day.\n",
              "4  2006-04-01 04:00:00.000 +0200  ...  Partly cloudy throughout the day.\n",
              "\n",
              "[5 rows x 12 columns]"
            ]
          },
          "metadata": {
            "tags": []
          },
          "execution_count": 108
        }
      ]
    },
    {
      "cell_type": "code",
      "metadata": {
        "id": "gU-PJKG6QxG5",
        "colab_type": "code",
        "colab": {
          "base_uri": "https://localhost:8080/",
          "height": 235
        },
        "outputId": "166e2a58-31b6-48fa-d7d4-9eb127669131"
      },
      "source": [
        "df.isnull().sum()"
      ],
      "execution_count": 109,
      "outputs": [
        {
          "output_type": "execute_result",
          "data": {
            "text/plain": [
              "Formatted Date                0\n",
              "Summary                       0\n",
              "Precip Type                 517\n",
              "Temperature (C)               0\n",
              "Apparent Temperature (C)      0\n",
              "Humidity                      0\n",
              "Wind Speed (km/h)             0\n",
              "Wind Bearing (degrees)        0\n",
              "Visibility (km)               0\n",
              "Loud Cover                    0\n",
              "Pressure (millibars)          0\n",
              "Daily Summary                 0\n",
              "dtype: int64"
            ]
          },
          "metadata": {
            "tags": []
          },
          "execution_count": 109
        }
      ]
    },
    {
      "cell_type": "code",
      "metadata": {
        "id": "g-fD7fpY5l40",
        "colab_type": "code",
        "colab": {
          "base_uri": "https://localhost:8080/",
          "height": 341
        },
        "outputId": "e67da699-6be4-45bd-c248-0bff6e2a3685"
      },
      "source": [
        "dates = df['Formatted Date'].values\n",
        "temp  = df['Temperature (C)'].values\n",
        " \n",
        " \n",
        "plt.figure(figsize=(15,5))\n",
        "plt.plot(dates, temp)\n",
        "plt.title('Temperature average',\n",
        "          fontsize=20);"
      ],
      "execution_count": 112,
      "outputs": [
        {
          "output_type": "display_data",
          "data": {
            "image/png": "[encoded data removed]",
            "text/plain": [
              "<Figure size 1080x360 with 1 Axes>"
            ]
          },
          "metadata": {
            "tags": [],
            "needs_background": "light"
          }
        }
      ]
    },
    {
      "cell_type": "code",
      "metadata": {
        "id": "HDHPx4s6RgFd",
        "colab_type": "code",
        "colab": {}
      },
      "source": [
        "def windowed_dataset(series, window_size, batch_size, shuffle_buffer):\n",
        "    series = tf.expand_dims(series, axis=-1)\n",
        "    ds = tf.data.Dataset.from_tensor_slices(series)\n",
        "    ds = ds.window(window_size + 1, shift=1, drop_remainder=True)\n",
        "    ds = ds.flat_map(lambda w: w.batch(window_size + 1))\n",
        "    ds = ds.shuffle(shuffle_buffer)\n",
        "    ds = ds.map(lambda w: (w[:-1], w[1:]))\n",
        "    return ds.batch(batch_size).prefetch(1)"
      ],
      "execution_count": 114,
      "outputs": []
    },
    {
      "cell_type": "code",
      "metadata": {
        "id": "T8BIj6RwzBEE",
        "colab_type": "code",
        "colab": {}
      },
      "source": [
        "from sklearn.model_selection import train_test_split\n",
        "dates_train, dates_test, label_train, label_test = train_test_split(dates, temp, test_size=0.2)"
      ],
      "execution_count": 115,
      "outputs": []
    },
    {
      "cell_type": "code",
      "metadata": {
        "id": "2bUmYUy00C9L",
        "colab_type": "code",
        "colab": {}
      },
      "source": [
        "data_train = windowed_dataset(label_train, window_size=60, batch_size=100, shuffle_buffer=1000)\n",
        "data_test = windowed_dataset(label_test, window_size=60, batch_size=100, shuffle_buffer=1000)"
      ],
      "execution_count": 116,
      "outputs": []
    },
    {
      "cell_type": "code",
      "metadata": {
        "id": "509aMlGVaBL_",
        "colab_type": "code",
        "colab": {}
      },
      "source": [
        "model = tf.keras.models.Sequential([\n",
        "  tf.keras.layers.LSTM(60, return_sequences=True),\n",
        "  tf.keras.layers.LSTM(60),\n",
        "  tf.keras.layers.Dense(30, activation=\"relu\"),\n",
        "  tf.keras.layers.Dense(10, activation=\"relu\"),\n",
        "  tf.keras.layers.Dense(1),\n",
        "])"
      ],
      "execution_count": 117,
      "outputs": []
    },
    {
      "cell_type": "code",
      "metadata": {
        "id": "sUn8QYEGad0a",
        "colab_type": "code",
        "colab": {}
      },
      "source": [
        "optimizer = tf.keras.optimizers.SGD(lr=1.0000e-04, momentum=0.9)\n",
        "model.compile(loss=tf.keras.losses.Huber(),\n",
        "              optimizer=optimizer,\n",
        "              metrics=[\"mae\"])"
      ],
      "execution_count": 118,
      "outputs": []
    },
    {
      "cell_type": "code",
      "metadata": {
        "id": "ymurZRnSeyZw",
        "colab_type": "code",
        "colab": {}
      },
      "source": [
        "class stopCallback(tf.keras.callbacks.Callback):\n",
        "  def on_epoch_end(self, epoch, logs={}):\n",
        "    if(logs.get('mae')<10):\n",
        "      print(\"\\n MAE < 10 %!\")\n",
        "      self.model.stop_training = False\n",
        "    if(logs.get('val_mae')<5):\n",
        "      print(\"\\n MAE val < 5 %!\")\n",
        "      self.model.stop_training = True\n",
        "callbacks = stopCallback()"
      ],
      "execution_count": 119,
      "outputs": []
    },
    {
      "cell_type": "code",
      "metadata": {
        "id": "MoW4FwUCahhu",
        "colab_type": "code",
        "colab": {
          "base_uri": "https://localhost:8080/",
          "height": 1000
        },
        "outputId": "f16322ab-ed6c-4842-f388-dd862ba46d45"
      },
      "source": [
        "history = model.fit(data_train,  validation_data=(data_test), epochs=30, callbacks=[callbacks], verbose=2)"
      ],
      "execution_count": 120,
      "outputs": [
        {
          "output_type": "stream",
          "text": [
            "Epoch 1/30\n",
            "WARNING:tensorflow:Layer lstm_18 is casting an input tensor from dtype float64 to the layer's dtype of float32, which is new behavior in TensorFlow 2.  The layer has dtype float32 because its dtype defaults to floatx.\n",
            "\n",
            "If you intended to run this layer in float32, you can safely ignore this warning. If in doubt, this warning is likely only an issue if you are porting a TensorFlow 1.X model to TensorFlow 2.\n",
            "\n",
            "To change all layers to have dtype float64 by default, call `tf.keras.backend.set_floatx('float64')`. To change just this layer, pass dtype='float64' to the layer constructor. If you are the author of this layer, you can disable autocasting by passing autocast=False to the base Layer constructor.\n",
            "\n",
            "\n",
            " MAE < 10 %!\n",
            "772/772 - 77s - loss: 8.9587 - mae: 9.4481 - val_loss: 7.3789 - val_mae: 7.8657\n",
            "Epoch 2/30\n",
            "\n",
            " MAE < 10 %!\n",
            "772/772 - 84s - loss: 7.4271 - mae: 7.9158 - val_loss: 7.3781 - val_mae: 7.8649\n",
            "Epoch 3/30\n",
            "\n",
            " MAE < 10 %!\n",
            "772/772 - 85s - loss: 7.4250 - mae: 7.9135 - val_loss: 7.3740 - val_mae: 7.8609\n",
            "Epoch 4/30\n",
            "\n",
            " MAE < 10 %!\n",
            "772/772 - 85s - loss: 7.4169 - mae: 7.9050 - val_loss: 7.3602 - val_mae: 7.8474\n",
            "Epoch 5/30\n",
            "\n",
            " MAE < 10 %!\n",
            "772/772 - 84s - loss: 7.3958 - mae: 7.8836 - val_loss: 7.3439 - val_mae: 7.8321\n",
            "Epoch 6/30\n",
            "\n",
            " MAE < 10 %!\n",
            "772/772 - 85s - loss: 7.3757 - mae: 7.8637 - val_loss: 7.3379 - val_mae: 7.8264\n",
            "Epoch 7/30\n",
            "\n",
            " MAE < 10 %!\n",
            "772/772 - 85s - loss: 7.3674 - mae: 7.8556 - val_loss: 7.3462 - val_mae: 7.8348\n",
            "Epoch 8/30\n",
            "\n",
            " MAE < 10 %!\n",
            "772/772 - 88s - loss: 7.3602 - mae: 7.8484 - val_loss: 7.3148 - val_mae: 7.8031\n",
            "Epoch 9/30\n",
            "\n",
            " MAE < 10 %!\n",
            "772/772 - 85s - loss: 7.3565 - mae: 7.8447 - val_loss: 7.3304 - val_mae: 7.8187\n",
            "Epoch 10/30\n",
            "\n",
            " MAE < 10 %!\n",
            "772/772 - 85s - loss: 7.3536 - mae: 7.8416 - val_loss: 7.3540 - val_mae: 7.8424\n",
            "Epoch 11/30\n",
            "\n",
            " MAE < 10 %!\n",
            "772/772 - 85s - loss: 7.3500 - mae: 7.8380 - val_loss: 7.3083 - val_mae: 7.7965\n",
            "Epoch 12/30\n",
            "\n",
            " MAE < 10 %!\n",
            "772/772 - 84s - loss: 7.3480 - mae: 7.8360 - val_loss: 7.3126 - val_mae: 7.8007\n",
            "Epoch 13/30\n",
            "\n",
            " MAE < 10 %!\n",
            "772/772 - 84s - loss: 7.3468 - mae: 7.8348 - val_loss: 7.3051 - val_mae: 7.7931\n",
            "Epoch 14/30\n",
            "\n",
            " MAE < 10 %!\n",
            "772/772 - 85s - loss: 7.3456 - mae: 7.8336 - val_loss: 7.3097 - val_mae: 7.7978\n",
            "Epoch 15/30\n",
            "\n",
            " MAE < 10 %!\n",
            "772/772 - 88s - loss: 7.3443 - mae: 7.8322 - val_loss: 7.3075 - val_mae: 7.7956\n",
            "Epoch 16/30\n",
            "\n",
            " MAE < 10 %!\n",
            "772/772 - 85s - loss: 7.3438 - mae: 7.8318 - val_loss: 7.2973 - val_mae: 7.7852\n",
            "Epoch 17/30\n",
            "\n",
            " MAE < 10 %!\n",
            "772/772 - 86s - loss: 7.3428 - mae: 7.8307 - val_loss: 7.3080 - val_mae: 7.7959\n",
            "Epoch 18/30\n",
            "\n",
            " MAE < 10 %!\n",
            "772/772 - 85s - loss: 7.3426 - mae: 7.8306 - val_loss: 7.3322 - val_mae: 7.8205\n",
            "Epoch 19/30\n",
            "\n",
            " MAE < 10 %!\n",
            "772/772 - 85s - loss: 7.3420 - mae: 7.8299 - val_loss: 7.3137 - val_mae: 7.8018\n",
            "Epoch 20/30\n",
            "\n",
            " MAE < 10 %!\n",
            "772/772 - 85s - loss: 7.3417 - mae: 7.8297 - val_loss: 7.3123 - val_mae: 7.8004\n",
            "Epoch 21/30\n",
            "\n",
            " MAE < 10 %!\n",
            "772/772 - 85s - loss: 7.3409 - mae: 7.8289 - val_loss: 7.2989 - val_mae: 7.7867\n",
            "Epoch 22/30\n",
            "\n",
            " MAE < 10 %!\n",
            "772/772 - 85s - loss: 7.3413 - mae: 7.8292 - val_loss: 7.2988 - val_mae: 7.7867\n",
            "Epoch 23/30\n",
            "\n",
            " MAE < 10 %!\n",
            "772/772 - 88s - loss: 7.3404 - mae: 7.8284 - val_loss: 7.2967 - val_mae: 7.7846\n",
            "Epoch 24/30\n",
            "\n",
            " MAE < 10 %!\n",
            "772/772 - 86s - loss: 7.3401 - mae: 7.8280 - val_loss: 7.3155 - val_mae: 7.8036\n",
            "Epoch 25/30\n",
            "\n",
            " MAE < 10 %!\n",
            "772/772 - 85s - loss: 7.3399 - mae: 7.8278 - val_loss: 7.2958 - val_mae: 7.7837\n",
            "Epoch 26/30\n",
            "\n",
            " MAE < 10 %!\n",
            "772/772 - 85s - loss: 7.3398 - mae: 7.8277 - val_loss: 7.2969 - val_mae: 7.7847\n",
            "Epoch 27/30\n",
            "\n",
            " MAE < 10 %!\n",
            "772/772 - 84s - loss: 7.3394 - mae: 7.8273 - val_loss: 7.2955 - val_mae: 7.7833\n",
            "Epoch 28/30\n",
            "\n",
            " MAE < 10 %!\n",
            "772/772 - 86s - loss: 7.3391 - mae: 7.8270 - val_loss: 7.2945 - val_mae: 7.7823\n",
            "Epoch 29/30\n",
            "\n",
            " MAE < 10 %!\n",
            "772/772 - 85s - loss: 7.3391 - mae: 7.8270 - val_loss: 7.2968 - val_mae: 7.7847\n",
            "Epoch 30/30\n",
            "\n",
            " MAE < 10 %!\n",
            "772/772 - 87s - loss: 7.3389 - mae: 7.8268 - val_loss: 7.2946 - val_mae: 7.7825\n"
          ],
          "name": "stdout"
        }
      ]
    },
    {
      "cell_type": "code",
      "metadata": {
        "id": "7c48gYAYfoU1",
        "colab_type": "code",
        "colab": {}
      },
      "source": [
        "import matplotlib.pyplot as plt"
      ],
      "execution_count": 121,
      "outputs": []
    },
    {
      "cell_type": "code",
      "metadata": {
        "id": "gUmDqr1GkdpG",
        "colab_type": "code",
        "colab": {
          "base_uri": "https://localhost:8080/",
          "height": 295
        },
        "outputId": "379bce87-894a-476b-def1-269e0081b103"
      },
      "source": [
        "fig, ax = plt.subplots()\n",
        "plt.plot(history.history['loss'])\n",
        "plt.plot(history.history['val_loss'])\n",
        "\n",
        "plt.title('Model loss')\n",
        "plt.ylabel('Loss')\n",
        "plt.xlabel('Epoch')\n",
        "plt.legend(['Train', 'Val'], loc='upper right')\n",
        "plt.show()"
      ],
      "execution_count": 122,
      "outputs": [
        {
          "output_type": "display_data",
          "data": {
            "image/png": "[encoded data removed]",
            "text/plain": [
              "<Figure size 432x288 with 1 Axes>"
            ]
          },
          "metadata": {
            "tags": [],
            "needs_background": "light"
          }
        }
      ]
    },
    {
      "cell_type": "code",
      "metadata": {
        "id": "ulpm1Hf4ki1H",
        "colab_type": "code",
        "colab": {
          "base_uri": "https://localhost:8080/",
          "height": 295
        },
        "outputId": "e1e3b646-f220-4d3a-8feb-95e2a2ae0a7d"
      },
      "source": [
        "fig, ax = plt.subplots()\n",
        "plt.plot(history.history['mae'])\n",
        "plt.plot(history.history['val_mae'])\n",
        "\n",
        "plt.title('Model MAE')\n",
        "plt.ylabel('MAE')\n",
        "plt.xlabel('Epoch')\n",
        "plt.legend(['Train', 'Val'], loc='upper right')\n",
        "plt.show()"
      ],
      "execution_count": 123,
      "outputs": [
        {
          "output_type": "display_data",
          "data": {
            "image/png": "[encoded data removed]",
            "text/plain": [
              "<Figure size 432x288 with 1 Axes>"
            ]
          },
          "metadata": {
            "tags": [],
            "needs_background": "light"
          }
        }
      ]
    },
    {
      "cell_type": "code",
      "metadata": {
        "id": "l2pjrBw6onJF",
        "colab_type": "code",
        "colab": {}
      },
      "source": [
        ""
      ],
      "execution_count": null,
      "outputs": []
    }
  ]
}